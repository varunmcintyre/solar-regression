{
 "cells": [
  {
   "cell_type": "markdown",
   "id": "9c09c8a5",
   "metadata": {},
   "source": [
    "U.S. electricity generation by source per month from 1950-2020 (in million Kilowatt hours)\n",
    "Cleaned down to just renewable energy, between 2010 and 2020 (most recent)"
   ]
  },
  {
   "cell_type": "markdown",
   "id": "53b5c98e",
   "metadata": {},
   "source": [
    "https://www.eia.gov/totalenergy/data/browser/index.php?tbl=T07.02A#/?f=M"
   ]
  },
  {
   "cell_type": "code",
   "execution_count": 51,
   "id": "0de3f1a6",
   "metadata": {},
   "outputs": [],
   "source": [
    "import pandas as pd\n",
    "import matplotlib.pyplot as plt\n",
    "import seaborn as sns\n",
    "from scipy import stats"
   ]
  },
  {
   "cell_type": "code",
   "execution_count": 52,
   "id": "454b0d0b",
   "metadata": {},
   "outputs": [],
   "source": [
    "# Each row title corresponds to a different type of electricity generation source\n",
    "MSN_DICT = {\"CLETPUS\":\"Coal\", \"PAETPUS\":\"Petroleum\", \"NGETPUS\":\"Natural Gas\", \n",
    "          \"OJETPUS\":\"Other Gases\", \"NUETPUS\":\"Nuclear\", \"HPETPUS\":\"Hydroelectric Pump\", \n",
    "          \"HVETPUS\":\"Hydroelectric\",\"WDETPUS\":\"Wood\", \"WSETPUS\":\"Waste\", \n",
    "          \"GEETPUS\":\"Geothermal\", \"SOETPUS\":\"Solar\", \"WYETPUS\":\"Wind\", \"ELETPUS\":\"Total\"}\n",
    "\n",
    "# The sources we care about\n",
    "SOURCES = [\"Solar\"]"
   ]
  },
  {
   "cell_type": "code",
   "execution_count": 53,
   "id": "ca458042",
   "metadata": {},
   "outputs": [],
   "source": [
    "def clean_data(df):\n",
    "    ''' Function: prepares dataframe for analysis\n",
    "        Parameters: dataframe\n",
    "        Returns: dataframe\n",
    "    '''\n",
    "    # create new column with just the year\n",
    "    df[\"Year\"] = df[\"YYYYMM\"] / 100\n",
    "    df[\"Year\"] = df[\"Year\"].apply(lambda x: int(x))\n",
    "    \n",
    "    # create new column with just the month\n",
    "    df[\"Month\"] = df[\"YYYYMM\"] % 100\n",
    "    \n",
    "    # translate MSN to corresponding energy source\n",
    "    df[\"Source\"] = df[\"MSN\"]\n",
    "    df[\"Source\"] = df[\"MSN\"].apply(lambda x: MSN_DICT[x])\n",
    "    \n",
    "    # take out year totals (Month = 13), and only the last 10 years\n",
    "    df = df.loc[(df[\"Month\"] != 13)]\n",
    "    df = df.loc[(df[\"Year\"] >= 2010)]\n",
    "    \n",
    "    # remove unnecessary columns\n",
    "    df = df.drop([\"MSN\", \"YYYYMM\", \"Unit\", \"Description\", \"Column_Order\", \"Month\"], 1)\n",
    "\n",
    "    # make sure all values in Value are floats\n",
    "    df[\"Value\"] = df[\"Value\"].apply(lambda x: float(x))\n",
    "    \n",
    "    return df"
   ]
  },
  {
   "cell_type": "code",
   "execution_count": 55,
   "id": "7b80a244",
   "metadata": {},
   "outputs": [],
   "source": [
    "def plot_sources(dfs):\n",
    "    ''' Function: plots a graph for each dataframe in a list\n",
    "        Parameters: list of dataframes\n",
    "        Returns: prints graphs\n",
    "    '''\n",
    "    for i in range(len(dfs)):\n",
    "        sns.regplot(x = dfs[i][\"Year\"], y = dfs[i][\"Value\"])\n",
    "        plt.title(SOURCES[i]+\" Electricity Generation 2010-2020 (U.S.)\")\n",
    "        plt.ylabel(\"Million Kilowatt Hours\")\n",
    "        plt.show()"
   ]
  },
  {
   "cell_type": "code",
   "execution_count": 58,
   "id": "9ef25eb3",
   "metadata": {},
   "outputs": [],
   "source": [
    "def regression(df):\n",
    "    X = df[['2010'cp8 Ugj, '2011', '2012', '2013', '2014', '2015', '2016', '2017', '2018', '2019', '2020']]\n",
    "    y = df['2021']\n",
    "\n",
    "    X_train, X_test, y_train, y_test = train_test_split(X, y, test_size=0.3, random_state=7)\n",
    "\n",
    "    rf = RandomForestRegressor(random_state=7)\n",
    "    rf.fit(X_train, y_train)\n",
    "\n",
    "    y_pred = rf.predict(X_test)\n",
    "\n",
    "    mse = mean_squared_error(y_test, y_pred)\n",
    "    print('The mse of the model is: {}'.format(mse))"
   ]
  },
  {
   "cell_type": "code",
   "execution_count": 64,
   "id": "3515f67f",
   "metadata": {},
   "outputs": [
    {
     "name": "stdout",
     "output_type": "stream",
     "text": [
      "          MSN  YYYYMM       Value  Column_Order  \\\n",
      "0     CLETPUS  194913   135451.32             1   \n",
      "1     CLETPUS  195013  154519.994             1   \n",
      "2     CLETPUS  195113  185203.657             1   \n",
      "3     CLETPUS  195213  195436.666             1   \n",
      "4     CLETPUS  195313  218846.325             1   \n",
      "...       ...     ...         ...           ...   \n",
      "8549  ELETPUS  202106   373670.86            13   \n",
      "8550  ELETPUS  202107  404662.614            13   \n",
      "8551  ELETPUS  202108  413949.298            13   \n",
      "8552  ELETPUS  202109  348077.041            13   \n",
      "8553  ELETPUS  202110  321061.685            13   \n",
      "\n",
      "                                            Description  \\\n",
      "0     Electricity Net Generation From Coal, All Sectors   \n",
      "1     Electricity Net Generation From Coal, All Sectors   \n",
      "2     Electricity Net Generation From Coal, All Sectors   \n",
      "3     Electricity Net Generation From Coal, All Sectors   \n",
      "4     Electricity Net Generation From Coal, All Sectors   \n",
      "...                                                 ...   \n",
      "8549  Electricity Net Generation Total (including fr...   \n",
      "8550  Electricity Net Generation Total (including fr...   \n",
      "8551  Electricity Net Generation Total (including fr...   \n",
      "8552  Electricity Net Generation Total (including fr...   \n",
      "8553  Electricity Net Generation Total (including fr...   \n",
      "\n",
      "                       Unit  Year  Month Source  \n",
      "0     Million Kilowatthours  1949     13   Coal  \n",
      "1     Million Kilowatthours  1950     13   Coal  \n",
      "2     Million Kilowatthours  1951     13   Coal  \n",
      "3     Million Kilowatthours  1952     13   Coal  \n",
      "4     Million Kilowatthours  1953     13   Coal  \n",
      "...                     ...   ...    ...    ...  \n",
      "8549  Million Kilowatthours  2021      6  Total  \n",
      "8550  Million Kilowatthours  2021      7  Total  \n",
      "8551  Million Kilowatthours  2021      8  Total  \n",
      "8552  Million Kilowatthours  2021      9  Total  \n",
      "8553  Million Kilowatthours  2021     10  Total  \n",
      "\n",
      "[8554 rows x 9 columns]\n"
     ]
    }
   ],
   "source": [
    "df = pd.read_csv(\"MER_T07_02A.csv\")\n",
    "clean_df = clean_data(df)\n",
    "solar_df = df.loc[(clean_df[\"Source\"] == \"Solar\")]\n",
    "print(df)\n",
    "#plot_sources(dfs)\n",
    "#data2020 = lin_reg(dfs, 2020)\n",
    "#data2030 = lin_reg(dfs, 2030)"
   ]
  },
  {
   "cell_type": "markdown",
   "id": "0b90f454",
   "metadata": {},
   "source": [
    "Challenges with project:\n",
    "data was organized for plotting, not regression\n",
    "reorganize data to fit regression - a column for each year instead of a row for each year\n",
    "change from reading multiple sources to just one - not as much of a challenge, just a change\n",
    "BIG CHANGE - use other data sources for regression, not just old generation data\n",
    "\n",
    "Project background:\n",
    "wanted to bulid upon a small project in a subject I'm interested in (renewables data) that used a basic concept in linear regression and use a machine learning regression algorithm instead, which I learned in a later DS class."
   ]
  },
  {
   "cell_type": "code",
   "execution_count": null,
   "id": "95649051",
   "metadata": {},
   "outputs": [],
   "source": []
  }
 ],
 "metadata": {
  "kernelspec": {
   "display_name": "Python 3 (ipykernel)",
   "language": "python",
   "name": "python3"
  },
  "language_info": {
   "codemirror_mode": {
    "name": "ipython",
    "version": 3
   },
   "file_extension": ".py",
   "mimetype": "text/x-python",
   "name": "python",
   "nbconvert_exporter": "python",
   "pygments_lexer": "ipython3",
   "version": "3.8.15"
  }
 },
 "nbformat": 4,
 "nbformat_minor": 5
}
